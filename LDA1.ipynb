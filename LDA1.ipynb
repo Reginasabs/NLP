{
 "cells": [
  {
   "cell_type": "code",
   "execution_count": 16,
   "id": "1f386649-8a62-42d7-abf5-d18cbea9d6bc",
   "metadata": {},
   "outputs": [],
   "source": [
    "import gensim\n",
    "import gensim.corpora as corpora\n",
    "from gensim.models.ldamodel import LdaModel\n",
    "import nltk\n",
    "from nltk.corpus import stopwords\n",
    "import pandas as pd\n",
    "import pyLDAvis\n",
    "import pyLDAvis.gensim_models as gensimvis\n",
    "import matplotlib.pyplot as plt"
   ]
  },
  {
   "cell_type": "code",
   "execution_count": 17,
   "id": "eb78b5a8-21b1-4417-9170-fbcbf3b8a03e",
   "metadata": {},
   "outputs": [
    {
     "name": "stderr",
     "output_type": "stream",
     "text": [
      "[nltk_data] Downloading package stopwords to\n",
      "[nltk_data]     C:\\Users\\Admin\\AppData\\Roaming\\nltk_data...\n",
      "[nltk_data]   Package stopwords is already up-to-date!\n"
     ]
    }
   ],
   "source": [
    "# Download the stopwords from NLTK\n",
    "nltk.download('stopwords')\n",
    "stop_words = stopwords.words('english')\n",
    "\n",
    "# Sample documents\n",
    "documents = [\n",
    "    \"Natural language processing is a fascinating field of study.\",\n",
    "    \"Machine learning and deep learning are subsets of artificial intelligence.\",\n",
    "    \"Text mining involves the process of extracting meaningful information from text.\",\n",
    "    \"Topic modeling is a technique for discovering abstract topics within a collection of documents.\",\n",
    "    \"LDA is a popular topic modeling algorithm in the field of NLP.\",\n",
    "    \"Deep learning has revolutionized the field of artificial intelligence.\"\n",
    "]"
   ]
  },
  {
   "cell_type": "code",
   "execution_count": 18,
   "id": "522e5521-e87c-4553-a241-b5a98e77638c",
   "metadata": {},
   "outputs": [],
   "source": [
    "# Step 1: Preprocess the Text\n",
    "def preprocess(text):\n",
    "    tokens = gensim.utils.simple_preprocess(text, deacc=True)\n",
    "    tokens = [token for token in tokens if token not in stop_words]\n",
    "    return tokens\n",
    "\n",
    "processed_docs = [preprocess(doc) for doc in documents]"
   ]
  },
  {
   "cell_type": "code",
   "execution_count": 19,
   "id": "24e81149-8d20-41d3-9db6-b726a946c069",
   "metadata": {},
   "outputs": [],
   "source": [
    "# Step 2: Create a Dictionary and Corpus\n",
    "dictionary = corpora.Dictionary(processed_docs)\n",
    "corpus = [dictionary.doc2bow(doc) for doc in processed_docs]"
   ]
  },
  {
   "cell_type": "code",
   "execution_count": 20,
   "id": "7921d3fc-2ee3-4c4d-a383-0e1a8fba16c4",
   "metadata": {},
   "outputs": [
    {
     "name": "stdout",
     "output_type": "stream",
     "text": [
      "Dictionary:\n",
      "0: fascinating\n",
      "1: field\n",
      "2: language\n",
      "3: natural\n",
      "4: processing\n",
      "5: study\n",
      "6: artificial\n",
      "7: deep\n",
      "8: intelligence\n",
      "9: learning\n",
      "10: machine\n",
      "11: subsets\n",
      "12: extracting\n",
      "13: information\n",
      "14: involves\n",
      "15: meaningful\n",
      "16: mining\n",
      "17: process\n",
      "18: text\n",
      "19: abstract\n",
      "20: collection\n",
      "21: discovering\n",
      "22: documents\n",
      "23: modeling\n",
      "24: technique\n",
      "25: topic\n",
      "26: topics\n",
      "27: within\n",
      "28: algorithm\n",
      "29: lda\n",
      "30: nlp\n",
      "31: popular\n",
      "32: revolutionized\n"
     ]
    }
   ],
   "source": [
    "# Print dictionary and corpus\n",
    "print(\"Dictionary:\")\n",
    "for key, value in dictionary.items():\n",
    "    print(f\"{key}: {value}\")"
   ]
  },
  {
   "cell_type": "code",
   "execution_count": 21,
   "id": "5cd3cf4a-04e2-41d3-ba3e-52370fe4abd7",
   "metadata": {},
   "outputs": [
    {
     "name": "stdout",
     "output_type": "stream",
     "text": [
      "\n",
      "Corpus:\n",
      "[(0, 1), (1, 1), (2, 1), (3, 1), (4, 1), (5, 1)]\n",
      "[(6, 1), (7, 1), (8, 1), (9, 2), (10, 1), (11, 1)]\n",
      "[(12, 1), (13, 1), (14, 1), (15, 1), (16, 1), (17, 1), (18, 2)]\n",
      "[(19, 1), (20, 1), (21, 1), (22, 1), (23, 1), (24, 1), (25, 1), (26, 1), (27, 1)]\n",
      "[(1, 1), (23, 1), (25, 1), (28, 1), (29, 1), (30, 1), (31, 1)]\n",
      "[(1, 1), (6, 1), (7, 1), (8, 1), (9, 1), (32, 1)]\n"
     ]
    }
   ],
   "source": [
    "print(\"\\nCorpus:\")\n",
    "for doc in corpus:\n",
    "    print(doc)"
   ]
  },
  {
   "cell_type": "code",
   "execution_count": 22,
   "id": "ceaf127b-5245-47be-a1cc-d52ef738ce71",
   "metadata": {},
   "outputs": [],
   "source": [
    "# Step 3: Train the LDA Model\n",
    "num_topics = 3\n",
    "lda_model = LdaModel(corpus=corpus, id2word=dictionary, num_topics=num_topics, random_state=42, passes=10)"
   ]
  },
  {
   "cell_type": "code",
   "execution_count": 23,
   "id": "1ebe4e3a-d549-46f5-a844-aff890508f3b",
   "metadata": {},
   "outputs": [
    {
     "name": "stdout",
     "output_type": "stream",
     "text": [
      "Topic: 0 \n",
      "Words: 0.079*\"field\" + 0.078*\"processing\" + 0.078*\"fascinating\" + 0.078*\"study\" + 0.078*\"language\" + 0.078*\"natural\" + 0.020*\"modeling\" + 0.020*\"topic\" + 0.020*\"revolutionized\" + 0.020*\"deep\"\n",
      "Topic: 1 \n",
      "Words: 0.101*\"learning\" + 0.071*\"intelligence\" + 0.071*\"deep\" + 0.071*\"artificial\" + 0.040*\"abstract\" + 0.040*\"documents\" + 0.040*\"collection\" + 0.040*\"topics\" + 0.040*\"discovering\" + 0.040*\"technique\"\n",
      "Topic: 2 \n",
      "Words: 0.090*\"text\" + 0.051*\"modeling\" + 0.051*\"topic\" + 0.051*\"nlp\" + 0.051*\"algorithm\" + 0.051*\"popular\" + 0.051*\"lda\" + 0.051*\"field\" + 0.051*\"meaningful\" + 0.051*\"process\"\n"
     ]
    }
   ],
   "source": [
    "# Step 4: Print the Topics\n",
    "for idx, topic in lda_model.print_topics(-1):\n",
    "    print(f'Topic: {idx} \\nWords: {topic}')"
   ]
  },
  {
   "cell_type": "code",
   "execution_count": null,
   "id": "179a50fb-7031-4c90-a007-c0cf14ba8c07",
   "metadata": {},
   "outputs": [],
   "source": []
  }
 ],
 "metadata": {
  "kernelspec": {
   "display_name": "Python 3 (ipykernel)",
   "language": "python",
   "name": "python3"
  },
  "language_info": {
   "codemirror_mode": {
    "name": "ipython",
    "version": 3
   },
   "file_extension": ".py",
   "mimetype": "text/x-python",
   "name": "python",
   "nbconvert_exporter": "python",
   "pygments_lexer": "ipython3",
   "version": "3.9.19"
  }
 },
 "nbformat": 4,
 "nbformat_minor": 5
}
